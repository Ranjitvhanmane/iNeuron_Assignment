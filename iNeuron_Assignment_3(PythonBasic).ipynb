{
 "cells": [
  {
   "cell_type": "markdown",
   "id": "5823293d",
   "metadata": {},
   "source": [
    "1. Why are functions advantageous to have in your programs?\n",
    "2. When does the code in a function run: when it's specified or when it's called?\n",
    "3. What statement creates a function?\n",
    "4. What is the difference between a function and a function call?\n",
    "5. How many global scopes are there in a Python program? How many local scopes?\n",
    "6. What happens to variables in a local scope when the function call returns?\n",
    "7. What is the concept of a return value? Is it possible to have a return value in an expression?\n",
    "8. If a function does not have a return statement, what is the return value of a call to that function?\n",
    "9. How do you make a function variable refer to the global variable?\n",
    "10. What is the data type of None?\n",
    "11. What does the sentence import areallyourpetsnamederic do?\n",
    "12. If you had a bacon() feature in a spam module, what would you call it after importing spam?\n",
    "13. What can you do to save a programme from crashing if it encounters an error?\n",
    "14. What is the purpose of the try clause? What is the purpose of the except clause?\n",
    "\n"
   ]
  },
  {
   "cell_type": "raw",
   "id": "bd0aa795",
   "metadata": {},
   "source": [
    "Q1.  Why are functions advantageous to have in your programs?\n",
    "\n",
    "1. Using Function in our programe avoid repitation of code\n",
    "2. Use of Function to Incresess the program readability\n",
    "3. Modify or update of your program is esay\n"
   ]
  },
  {
   "cell_type": "code",
   "execution_count": 4,
   "id": "12623214",
   "metadata": {},
   "outputs": [],
   "source": [
    "def Addition(a,b):\n",
    "    return a+b"
   ]
  },
  {
   "cell_type": "code",
   "execution_count": 5,
   "id": "e063fcb7",
   "metadata": {},
   "outputs": [
    {
     "data": {
      "text/plain": [
       "9"
      ]
     },
     "execution_count": 5,
     "metadata": {},
     "output_type": "execute_result"
    }
   ],
   "source": [
    "Addition(4,5)"
   ]
  },
  {
   "cell_type": "code",
   "execution_count": 6,
   "id": "004a7b70",
   "metadata": {},
   "outputs": [
    {
     "data": {
      "text/plain": [
       "10"
      ]
     },
     "execution_count": 6,
     "metadata": {},
     "output_type": "execute_result"
    }
   ],
   "source": [
    "Addition(7,3)"
   ]
  },
  {
   "cell_type": "markdown",
   "id": "4ed95806",
   "metadata": {},
   "source": [
    "Q2 When does the code in a function run: when it's specified or when it's called?\n",
    "1. The code in a function executes when the function is called, not when the function is defined.\n"
   ]
  },
  {
   "cell_type": "code",
   "execution_count": 8,
   "id": "fcc57a2c",
   "metadata": {},
   "outputs": [],
   "source": [
    "#Function defined\n",
    "def Sum(a,b):\n",
    "    c=a+b\n",
    "    return c"
   ]
  },
  {
   "cell_type": "code",
   "execution_count": 9,
   "id": "31e583c5",
   "metadata": {},
   "outputs": [
    {
     "name": "stdout",
     "output_type": "stream",
     "text": [
      "12\n"
     ]
    }
   ],
   "source": [
    "#Function calling\n",
    "print(Sum(8,4))"
   ]
  },
  {
   "cell_type": "markdown",
   "id": "5a0753ef",
   "metadata": {},
   "source": [
    "Q3) What statement creates a function?\n",
    "1. define a function with the def keyword\n",
    "2. after def keyword write function name and colon\n",
    "3. \n"
   ]
  },
  {
   "cell_type": "code",
   "execution_count": null,
   "id": "975dcc23",
   "metadata": {},
   "outputs": [],
   "source": []
  },
  {
   "cell_type": "raw",
   "id": "d7863bc1",
   "metadata": {},
   "source": [
    "Q 4) What is the difference between a function and a function call?\n",
    "\n",
    " Function  \n",
    " 1. A function is a block of code that does a particular operation and returns a result. It usuallyaccepts inputs as parameters and returns a result. The parameters are not mandatory.\n",
    " \n",
    " function call\n",
    " 1. A function call is the code used to pass control to a function."
   ]
  },
  {
   "cell_type": "code",
   "execution_count": 13,
   "id": "803620c8",
   "metadata": {},
   "outputs": [],
   "source": [
    "def Print(s=None):\n",
    "    print(s)"
   ]
  },
  {
   "cell_type": "code",
   "execution_count": 14,
   "id": "4c56bea1",
   "metadata": {},
   "outputs": [
    {
     "name": "stdout",
     "output_type": "stream",
     "text": [
      "Ranjit\n"
     ]
    }
   ],
   "source": [
    "Print(\"Ranjit\")"
   ]
  },
  {
   "cell_type": "code",
   "execution_count": 15,
   "id": "368e7c24",
   "metadata": {},
   "outputs": [
    {
     "name": "stdout",
     "output_type": "stream",
     "text": [
      "None\n"
     ]
    }
   ],
   "source": [
    "Print()"
   ]
  },
  {
   "cell_type": "raw",
   "id": "42777b52",
   "metadata": {},
   "source": [
    "Q5)  How many global scopes are there in a Python program? How many local scopes?\n",
    "\n",
    "python scope:\n",
    "    A variable is only available from inside the region it is created. This is called scope.\n",
    "\n",
    "1. Local Scope:\n",
    "    A variable created inside a function belongs to the local scope of that function, and can only be   used inside that function.\n",
    "    \n",
    "2.  Gobal Scope:\n",
    "    A variable created in the main body of the Python code is a global variable and belongs to the global scope.\n",
    "\n"
   ]
  },
  {
   "cell_type": "code",
   "execution_count": 16,
   "id": "d859381c",
   "metadata": {},
   "outputs": [
    {
     "name": "stdout",
     "output_type": "stream",
     "text": [
      "10\n"
     ]
    }
   ],
   "source": [
    "x=10# global variable\n",
    "def local_scope():\n",
    "    x=12 #local variable\n",
    "    print(x)\n",
    "print(x)"
   ]
  },
  {
   "cell_type": "code",
   "execution_count": 17,
   "id": "cbb959ba",
   "metadata": {},
   "outputs": [
    {
     "name": "stdout",
     "output_type": "stream",
     "text": [
      "10\n",
      "10\n"
     ]
    }
   ],
   "source": [
    "x=10#global variable\n",
    "def fun1():\n",
    "    print(x)\n",
    "fun1()\n",
    "print(x)"
   ]
  },
  {
   "cell_type": "raw",
   "id": "21508d63",
   "metadata": {},
   "source": [
    "Q6. What happens to variables in a local scope when the function call returns?\n",
    "\n",
    "In python Garbage collection is concept added for relese the memory for efficiently memory management\n",
    "After function call returns the local variable destroy\n",
    "If we try to access local variable outside of function interpreter raise exception"
   ]
  },
  {
   "cell_type": "code",
   "execution_count": 23,
   "id": "56cb4317",
   "metadata": {},
   "outputs": [
    {
     "name": "stdout",
     "output_type": "stream",
     "text": [
      "15\n"
     ]
    },
    {
     "ename": "NameError",
     "evalue": "name 'y' is not defined",
     "output_type": "error",
     "traceback": [
      "\u001b[1;31m---------------------------------------------------------------------------\u001b[0m",
      "\u001b[1;31mNameError\u001b[0m                                 Traceback (most recent call last)",
      "Input \u001b[1;32mIn [23]\u001b[0m, in \u001b[0;36m<cell line: 5>\u001b[1;34m()\u001b[0m\n\u001b[0;32m      3\u001b[0m     \u001b[38;5;28mprint\u001b[39m(y)\n\u001b[0;32m      4\u001b[0m fun2()\n\u001b[1;32m----> 5\u001b[0m \u001b[38;5;28mprint\u001b[39m(\u001b[43my\u001b[49m)\n",
      "\u001b[1;31mNameError\u001b[0m: name 'y' is not defined"
     ]
    }
   ],
   "source": [
    "def fun2():\n",
    "    y=15\n",
    "    print(y)\n",
    "fun2()\n",
    "print(y)"
   ]
  },
  {
   "cell_type": "raw",
   "id": "80f6a98b",
   "metadata": {},
   "source": [
    "Q7. What is the concept of a return value? Is it possible to have a return value in an expression?\n",
    "\n",
    "1. A return statement is used to end the execution of the function call and “returns” the result (value of the expression following the return keyword) to the caller.\n",
    "2. The statements after the return statements are not executed. If the return statement is without any expression, then the special value None is returned. A return statement is overall used to invoke a function so that the passed statements can be executed.\n",
    "3. Return statement can not be used outside the function.\n",
    "\n",
    "4. The statements after the return statements are not executed. If the return statement is without any expression, then the special value None is returned\n",
    "\n",
    "def function_name():\n",
    "     Statement\n",
    "    \n",
    "    \n",
    "    return expresion\n",
    "    \n"
   ]
  },
  {
   "cell_type": "code",
   "execution_count": 24,
   "id": "0c419eaa",
   "metadata": {},
   "outputs": [],
   "source": [
    "def fun3():\n",
    "    l1=list()\n",
    "    for i in range(10):\n",
    "        l1.append(i)\n",
    "    return l1\n"
   ]
  },
  {
   "cell_type": "code",
   "execution_count": 25,
   "id": "c84f2695",
   "metadata": {},
   "outputs": [
    {
     "name": "stdout",
     "output_type": "stream",
     "text": [
      "[0, 1, 2, 3, 4, 5, 6, 7, 8, 9]\n"
     ]
    }
   ],
   "source": [
    "l3=fun3()\n",
    "print(l3)"
   ]
  },
  {
   "cell_type": "raw",
   "id": "41c8bfa5",
   "metadata": {},
   "source": [
    "Q8. If a function does not have a return statement, what is the return value of a call to that function?\n",
    "\n",
    "There is no notion of procedure or routine in Python. So, if you don't explicitly use a return value in a return statement, or if you totally omit the return statement, then Python will implicitly return a default value for you. That default return value will always be None ."
   ]
  },
  {
   "cell_type": "raw",
   "id": "d08abe6f",
   "metadata": {},
   "source": [
    "Q9. How do you make a function variable refer to the global variable?\n",
    "--> To create a global variable inside a function, you can use the global keyword.\n"
   ]
  },
  {
   "cell_type": "code",
   "execution_count": 1,
   "id": "165043e1",
   "metadata": {},
   "outputs": [
    {
     "name": "stdout",
     "output_type": "stream",
     "text": [
      "Ranjit\n",
      "Ranjit\n"
     ]
    }
   ],
   "source": [
    "def Name():\n",
    "    global name\n",
    "    name=\"Ranjit\"\n",
    "    print(name)\n",
    "Name()\n",
    "print(name)"
   ]
  },
  {
   "cell_type": "raw",
   "id": "1e444395",
   "metadata": {},
   "source": [
    "Q10. What is the data type of None?\n",
    "\n",
    "---->None keyword is an object, and it is a data type of the class NoneType . We can assign None to any variable, but you can not create other NoneType objects."
   ]
  },
  {
   "cell_type": "code",
   "execution_count": 3,
   "id": "c874c42b",
   "metadata": {},
   "outputs": [
    {
     "name": "stdout",
     "output_type": "stream",
     "text": [
      "None\n"
     ]
    }
   ],
   "source": [
    "x=None\n",
    "print(x)"
   ]
  },
  {
   "cell_type": "raw",
   "id": "8a06c0f7",
   "metadata": {},
   "source": [
    "Q11. What does the sentence import areallyourpetsnamederic do?\n",
    "---->That import statement imports a module named areallyourpetsnamederic.\n",
    "   "
   ]
  },
  {
   "cell_type": "raw",
   "id": "9b71f710",
   "metadata": {},
   "source": [
    "Q12. If you had a bacon() feature in a spam module, what would you call it after importing spam?\n",
    "-------> This function can be called with spam.bacon()."
   ]
  },
  {
   "cell_type": "raw",
   "id": "e803f0e2",
   "metadata": {},
   "source": [
    "Q13. What can you do to save a programme from crashing if it encounters an error?\n",
    "--->Place the line of code that might cause an error in a try clause and use except block to handle the error."
   ]
  },
  {
   "cell_type": "raw",
   "id": "90e99a9f",
   "metadata": {},
   "source": [
    "Q14.  hat is the purpose of the try clause? What is the purpose of the except clause?\n",
    "---->The code that could potentially cause an error goes in the try clause. The code that executes if an error happens goes in the except clause."
   ]
  }
 ],
 "metadata": {
  "kernelspec": {
   "display_name": "Python 3 (ipykernel)",
   "language": "python",
   "name": "python3"
  },
  "language_info": {
   "codemirror_mode": {
    "name": "ipython",
    "version": 3
   },
   "file_extension": ".py",
   "mimetype": "text/x-python",
   "name": "python",
   "nbconvert_exporter": "python",
   "pygments_lexer": "ipython3",
   "version": "3.9.12"
  }
 },
 "nbformat": 4,
 "nbformat_minor": 5
}
