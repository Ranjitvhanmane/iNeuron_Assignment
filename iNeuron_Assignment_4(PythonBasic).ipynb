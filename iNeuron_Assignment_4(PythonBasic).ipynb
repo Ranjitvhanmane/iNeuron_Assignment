{
 "cells": [
  {
   "cell_type": "raw",
   "id": "07e61c1f",
   "metadata": {},
   "source": [
    "Q1. 1. What exactly is []?\n",
    "\n",
    "-> The empty list value, which is a list value that contains no items. "
   ]
  },
  {
   "cell_type": "code",
   "execution_count": 1,
   "id": "8a84ee5f",
   "metadata": {},
   "outputs": [
    {
     "name": "stdout",
     "output_type": "stream",
     "text": [
      "[]\n",
      "<class 'list'>\n"
     ]
    }
   ],
   "source": [
    "l=[]\n",
    "print(l)\n",
    "print(type(l))"
   ]
  },
  {
   "cell_type": "raw",
   "id": "7e4a9d5d",
   "metadata": {},
   "source": [
    "Q2. In a list of values stored in a variable called spam, how would you assign the value &#39;hello&#39; as the\n",
    "third value? (Assume [2, 4, 6, 8, 10] are in spam.)\n"
   ]
  },
  {
   "cell_type": "code",
   "execution_count": 3,
   "id": "88f723d4",
   "metadata": {},
   "outputs": [
    {
     "name": "stdout",
     "output_type": "stream",
     "text": [
      "[2, 4, 'hello', 6, 8, 10]\n",
      "[2, 4, 'hello', 6, 8, 10]\n"
     ]
    }
   ],
   "source": [
    "spam= [2, 4, 6, 8, 10]\n",
    "spam.insert(2,'hello')\n",
    "print(spam)\n",
    "\n",
    "spam[2]='hello'\n",
    "print(spam)"
   ]
  },
  {
   "cell_type": "raw",
   "id": "df9b9e8e",
   "metadata": {},
   "source": [
    "Q3. What is the value of spam[int(int(&#39;3&#39; * 2) / 11)]?\n"
   ]
  },
  {
   "cell_type": "code",
   "execution_count": 4,
   "id": "983d6ee2",
   "metadata": {},
   "outputs": [
    {
     "name": "stdout",
     "output_type": "stream",
     "text": [
      "R\n"
     ]
    }
   ],
   "source": [
    "spam=['R','a','n','j','i','t']\n",
    "print(spam[int(int(3*2)/11)])"
   ]
  },
  {
   "cell_type": "raw",
   "id": "2e9904c7",
   "metadata": {},
   "source": [
    "Q4. What is the value of spam[-1]?\n",
    "--->Negative indexes count from the end"
   ]
  },
  {
   "cell_type": "code",
   "execution_count": 8,
   "id": "8d482b95",
   "metadata": {},
   "outputs": [
    {
     "name": "stdout",
     "output_type": "stream",
     "text": [
      "['R', 'a', 'n', 'j', 'i', 't']\n",
      "t\n"
     ]
    }
   ],
   "source": [
    "print(spam)\n",
    "\n",
    "print(spam[-1])"
   ]
  },
  {
   "cell_type": "code",
   "execution_count": 9,
   "id": "ec87c2a9",
   "metadata": {},
   "outputs": [
    {
     "name": "stdout",
     "output_type": "stream",
     "text": [
      "['R', 'a']\n"
     ]
    }
   ],
   "source": [
    "#Q5. What is the value of spam[:2]?\n",
    "print(spam[:2])\n",
    "# print first two element in the spam list"
   ]
  },
  {
   "cell_type": "code",
   "execution_count": 21,
   "id": "42f3f669",
   "metadata": {},
   "outputs": [],
   "source": [
    "#Let&#39;s pretend bacon has the list [3.14, &#39;cat,&#39; 11, &#39;cat,&#39; True] for the next three questions.\n",
    "bacon= [3.14, 'cat', 11, 'cat', True]"
   ]
  },
  {
   "cell_type": "code",
   "execution_count": 13,
   "id": "4e80be22",
   "metadata": {},
   "outputs": [
    {
     "name": "stdout",
     "output_type": "stream",
     "text": [
      "1\n"
     ]
    }
   ],
   "source": [
    "#Q6. What is the value of bacon.index('cat')?\n",
    "print(bacon.index('cat'))\n",
    "#above funtion return index of element in list"
   ]
  },
  {
   "cell_type": "code",
   "execution_count": 16,
   "id": "b7eb8d2e",
   "metadata": {},
   "outputs": [
    {
     "name": "stdout",
     "output_type": "stream",
     "text": [
      "[3.14, 'cat', 11, 'cat', True, 99, 99, 99]\n"
     ]
    }
   ],
   "source": [
    "#Q7.  What does bacon.append(99) change the look of the list value in bacon?\n",
    "bacon.append(99)\n",
    "print(bacon)\n",
    "#append function add element in last position in the list"
   ]
  },
  {
   "cell_type": "code",
   "execution_count": 22,
   "id": "f4c8a118",
   "metadata": {},
   "outputs": [
    {
     "name": "stdout",
     "output_type": "stream",
     "text": [
      "[3.14, 11, 'cat', True]\n"
     ]
    }
   ],
   "source": [
    "#Q8. How does bacon.remove('cat') change the look of the list meaning in bacon?\n",
    "bacon.remove('cat')\n",
    "print(bacon)\n",
    "#remove function delete the  element in the bacon list which passed"
   ]
  },
  {
   "cell_type": "raw",
   "id": "e74da8cc",
   "metadata": {},
   "source": [
    "Q9. What are the list concatenation and list replication operators?\n",
    "The operator for list concatenation is +, while the operator for replication is *."
   ]
  },
  {
   "cell_type": "code",
   "execution_count": 25,
   "id": "6cb58acb",
   "metadata": {},
   "outputs": [
    {
     "name": "stdout",
     "output_type": "stream",
     "text": [
      "[1, 2] [3, 4]\n",
      "[1, 2, 3, 4] [3, 4]\n",
      "[3, 4, 3, 4]\n"
     ]
    }
   ],
   "source": [
    "a=[1,2]\n",
    "b=[3,4]\n",
    "print(a,b)\n",
    "#concatenation\n",
    "a+=b\n",
    "print(a,b)\n",
    "#replication\n",
    "print(b*2)"
   ]
  },
  {
   "cell_type": "raw",
   "id": "5cb16ede",
   "metadata": {},
   "source": [
    " Q10. What is difference between the list methods append() and insert()?\n",
    " \n",
    "  While append() will add values only to the end of a list, insert() can add them anywhere in the list."
   ]
  },
  {
   "cell_type": "code",
   "execution_count": 29,
   "id": "e892b841",
   "metadata": {},
   "outputs": [
    {
     "name": "stdout",
     "output_type": "stream",
     "text": [
      "['Ranjit']\n",
      "['Ranjit', 'Vhanmane']\n",
      "['Ranjit', 'Dadaso', 'Vhanmane']\n"
     ]
    }
   ],
   "source": [
    "Name=['Ranjit']\n",
    "print(Name)\n",
    "Name.append('Vhanmane')\n",
    "print(Name)\n",
    "Name.insert(1,'Dadaso')\n",
    "print(Name)"
   ]
  },
  {
   "cell_type": "raw",
   "id": "4bc21798",
   "metadata": {},
   "source": [
    "Q11. What are the two methods for removing items from a list?\n",
    "\n",
    "The del statement and the remove() list method are two ways to remove values from a list."
   ]
  },
  {
   "cell_type": "code",
   "execution_count": 30,
   "id": "5d59b408",
   "metadata": {},
   "outputs": [
    {
     "name": "stdout",
     "output_type": "stream",
     "text": [
      "['Ranjit', 'Dadaso', 'Vhanmane']\n",
      "['Ranjit', 'Dadaso']\n"
     ]
    }
   ],
   "source": [
    "print(Name)\n",
    "Name.pop()\n",
    "print(Name)\n",
    "Name.remove('Dadaso')"
   ]
  },
  {
   "cell_type": "raw",
   "id": "5bb678d8",
   "metadata": {},
   "source": [
    "Q12. Describe how list values and string values are identical.\n",
    "Both lists and strings can be passed to len(), have indexes and slices, be used in for loops, be concatenated or replicated, and be used with the in and not in operators."
   ]
  },
  {
   "cell_type": "raw",
   "id": "4d6f090a",
   "metadata": {},
   "source": [
    "Q13. What's the difference between tuples and lists?\n",
    "List:\n",
    "    Lists are mutable; \n",
    "    they can have values added, removed, or changed\n",
    "    while lists use the square brackets, [ and ].\n",
    "tuple:\n",
    "    Tuples are immutable; \n",
    "    they cannot be changed at all. \n",
    "    Also, tuples are written using parentheses, ( and )"
   ]
  },
  {
   "cell_type": "code",
   "execution_count": 33,
   "id": "d4d4aca7",
   "metadata": {},
   "outputs": [
    {
     "name": "stdout",
     "output_type": "stream",
     "text": [
      "42\n",
      "(42,)\n"
     ]
    }
   ],
   "source": [
    "#Q14. How do you type a tuple value that only contains the integer 42?\n",
    "tuplename=(42)\n",
    "print(tuplename)\n",
    "tuplename2=(42,)\n",
    "print(tuplename2)"
   ]
  },
  {
   "cell_type": "code",
   "execution_count": 35,
   "id": "26a9847d",
   "metadata": {},
   "outputs": [
    {
     "name": "stdout",
     "output_type": "stream",
     "text": [
      "<class 'list'>\n",
      "<class 'tuple'>\n",
      "<class 'tuple'>\n",
      "<class 'list'>\n"
     ]
    }
   ],
   "source": [
    "#Q15. How do you get a list value's tuple form? How do you get a tuple value's list form?\n",
    "# The tuple() and list() functions, respectively\n",
    "a=[1,2,3]\n",
    "b=('a','b','c')\n",
    "print(type(a))\n",
    "print(type(b))\n",
    "a=tuple(a)\n",
    "b=list(b)\n",
    "print(type(a))\n",
    "print(type(b))"
   ]
  },
  {
   "cell_type": "raw",
   "id": "8d4980b8",
   "metadata": {},
   "source": [
    "Q16. Variables that \"contain\" list values are not necessarily lists themselves. Instead, what do they contain?\n",
    "-->They contain references to list values."
   ]
  },
  {
   "cell_type": "markdown",
   "id": "1e65bada",
   "metadata": {},
   "source": [
    "Q17. How do you distinguish between copy.copy() and copy.deepcopy()?\n",
    "\n",
    "The copy.copy() function will do a shallow copy of a list, while the copy.deepcopy() function will do a deep copy of a list. That is, only copy.deepcopy() will duplicate any lists inside the list.\n",
    "\n"
   ]
  }
 ],
 "metadata": {
  "kernelspec": {
   "display_name": "Python 3 (ipykernel)",
   "language": "python",
   "name": "python3"
  },
  "language_info": {
   "codemirror_mode": {
    "name": "ipython",
    "version": 3
   },
   "file_extension": ".py",
   "mimetype": "text/x-python",
   "name": "python",
   "nbconvert_exporter": "python",
   "pygments_lexer": "ipython3",
   "version": "3.9.12"
  }
 },
 "nbformat": 4,
 "nbformat_minor": 5
}
