{
 "cells": [
  {
   "cell_type": "code",
   "execution_count": null,
   "id": "23a5537d",
   "metadata": {},
   "outputs": [],
   "source": []
  },
  {
   "cell_type": "code",
   "execution_count": 2,
   "id": "d2321ff0",
   "metadata": {},
   "outputs": [
    {
     "name": "stdout",
     "output_type": "stream",
     "text": [
      "True\n",
      "False\n"
     ]
    }
   ],
   "source": [
    "#1.What are the two values of the Boolean data type? How do you write them?\n",
    "\n",
    "#A variable of the primitive data type boolean can have two values: \n",
    "#i)True\n",
    "#ii)False\n",
    "\n",
    "x=True\n",
    "y=False\n",
    "\n",
    "print(x)\n",
    "print(y)"
   ]
  },
  {
   "cell_type": "code",
   "execution_count": 6,
   "id": "95c9163b",
   "metadata": {},
   "outputs": [
    {
     "name": "stdout",
     "output_type": "stream",
     "text": [
      "False\n",
      "True\n",
      "False\n"
     ]
    }
   ],
   "source": [
    "'''\n",
    "2. What are the three different types of Boolean operators?\n",
    "\n",
    "The three basic boolean operators are: \n",
    "i)and\n",
    "ii)or\n",
    "iii)not\n",
    "'''\n",
    "#and\n",
    "if(True and False):\n",
    "    print(True)\n",
    "else:\n",
    "    print(False)\n",
    "    \n",
    "#or\n",
    "if(True or False):\n",
    "    print(True)\n",
    "else:\n",
    "    print(False)\n",
    "#not\n",
    "if(not True):\n",
    "    print(True)\n",
    "else:\n",
    "    print(False)"
   ]
  },
  {
   "cell_type": "raw",
   "id": "90e21325",
   "metadata": {},
   "source": [
    "3. Make a list of each Boolean operator&#39;s truth tables (i.e. every possible combination of Boolean\n",
    "values for the operator and what it evaluate ).\n",
    "1)and\n",
    "\n",
    "True and False = False\n",
    "False and True = False\n",
    "True and True  =True\n",
    "False and False =False\n",
    "\n",
    "2)or\n",
    "\n",
    "True or False = True\n",
    "False or True = True\n",
    "True or True  =True\n",
    "False or False =False\n",
    "\n",
    "3) not\n",
    "\n",
    "not True = False\n",
    "not False =True"
   ]
  },
  {
   "cell_type": "raw",
   "id": "871bb2f0",
   "metadata": {},
   "source": [
    "4. What are the values of the following expressions?\n",
    " i)(5>4) and (3 == 5)\n",
    "             (5>4)--->True\n",
    "             (3==5)-->False\n",
    "             True and False --->False\n",
    "\n",
    "             O/p False\n",
    "\n",
    "ii) not (5 > 4)\n",
    "            (5> 4)----->True\n",
    "\n",
    "            not True ----->False\n",
    "            O/p False\n",
    "\n",
    "\n",
    "iii)(5 > 4) or (3 == 5)\n",
    "        (5 > 4)------>True\n",
    "        (3==5)------->False\n",
    "        True or False----------> True\n",
    "        \n",
    "        O/p True\n",
    "\n",
    "iv) not ((5 > 4) or (3 == 5))\n",
    "    \n",
    "            (5> 4) --------->True\n",
    "            (3==5)--------->False\n",
    "            True or False ------> True\n",
    "            not(True)----------->False\n",
    "            \n",
    "\n",
    "v)  (True and True) and (True == False)\n",
    "         True       and    False\n",
    "         O/p  False\n",
    "\n",
    "vi) (not False) or (not True)\n",
    "      True      or    False\n",
    "           \n",
    "       O/p    True  \n",
    "    \n",
    "     "
   ]
  },
  {
   "cell_type": "code",
   "execution_count": 7,
   "id": "fe8c5c6a",
   "metadata": {},
   "outputs": [
    {
     "name": "stdout",
     "output_type": "stream",
     "text": [
      "False\n",
      "True\n",
      "True\n",
      "False\n",
      "True\n",
      "False\n"
     ]
    }
   ],
   "source": [
    "#5. What are the six comparison operators?\n",
    "#i) ==  ---> Equal\n",
    "if(5==3):\n",
    "    print(True)\n",
    "else:\n",
    "    print(False)\n",
    "#ii) !=    Not equal\n",
    "if(5!=3):\n",
    "    print(True)\n",
    "else:\n",
    "    print(False)\n",
    "\n",
    "#iii)   >    Greater than\n",
    "if(5>3):\n",
    "    print(True)\n",
    "else:\n",
    "    print(False)\n",
    "\n",
    "#iv)  <   Less than\n",
    "if(5<3):\n",
    "    print(True)\n",
    "else:\n",
    "    print(False)\n",
    "#v) >= Greater than or equal to\n",
    "if(5>=3):\n",
    "    print(True)\n",
    "else:\n",
    "    print(False)\n",
    "\n",
    "#vi) <=  Less than or equal to\n",
    "if(5<=3):\n",
    "    print(True)\n",
    "else:\n",
    "    print(False)"
   ]
  },
  {
   "cell_type": "raw",
   "id": "cf6f5aab",
   "metadata": {},
   "source": [
    "#6. How do you tell the difference between the equal to and assignment operators?Describe a condition and when you would use one.\n",
    "Assignment operators\n",
    "i) The '=' is the so-called assignment operator.\n",
    "ii) It is used to assign the result of the expression\n",
    "eg. x=10\n",
    "\n",
    "equality operator\n",
    "i)The '==' is the so-called equality comparison operator\n",
    "ii)It is used to check whether the two expressions on both sides are equal or not.\n",
    "eg. if(3==4):\n",
    "         print(True)\n",
    "    else:\n",
    "        print(False)"
   ]
  },
  {
   "cell_type": "code",
   "execution_count": 9,
   "id": "af406746",
   "metadata": {},
   "outputs": [
    {
     "name": "stdout",
     "output_type": "stream",
     "text": [
      "ham\n",
      "spam\n",
      "spam\n"
     ]
    }
   ],
   "source": [
    "#7. Identify the three blocks in this code:\n",
    "spam = 0\n",
    "if spam == 10:\n",
    "    print(\"eggs\")\n",
    "if spam > 5:\n",
    "    print(\"bacon\")\n",
    "else:\n",
    "    print(\"ham\")\n",
    "print(\"spam\")\n",
    "print(\"spam\")\n",
    "\n",
    "\n",
    "#O/p ham\n",
    "#   spam\n",
    "#   spam"
   ]
  },
  {
   "cell_type": "code",
   "execution_count": 10,
   "id": "525c1325",
   "metadata": {},
   "outputs": [
    {
     "name": "stdout",
     "output_type": "stream",
     "text": [
      "Hello\n"
     ]
    }
   ],
   "source": [
    "#8. Write code that prints Hello if 1 is stored in spam, prints Howdy if 2 is stored in spam, and prints Greetings! if anything else is stored in spam.\n",
    "spam=1\n",
    "if(spam==1):\n",
    "    print(\"Hello\")\n",
    "elif(spam==2):\n",
    "    print(\"Howdy\")\n",
    "else:\n",
    "    print(\"Greetings!\")\n",
    "    "
   ]
  },
  {
   "cell_type": "raw",
   "id": "79191c09",
   "metadata": {},
   "source": [
    "#9.If your programme is stuck in an endless loop, what keys you’ll press?\n",
    "#An infinite loop is a loop that runs indefinitely and it only stops with external intervention or when a break statement is found. You can stop an infinite loop with CTRL + C \n",
    "\n",
    "while(True):\n",
    "    print(\"Press CTRL + C\")\n"
   ]
  },
  {
   "cell_type": "code",
   "execution_count": 14,
   "id": "6de851dd",
   "metadata": {},
   "outputs": [
    {
     "name": "stdout",
     "output_type": "stream",
     "text": [
      "Before continue\n",
      "Before continue\n",
      "Before continue\n",
      "Before continue\n",
      "Before continue\n",
      "Before Break\n"
     ]
    }
   ],
   "source": [
    "#10. How can you tell the difference between break and continue?\n",
    "\"\"\"\n",
    "continues:\n",
    " Continue is also a loop control statement just like the break statement.\n",
    " continue statement is opposite to that of break statement, instead of terminating the loop, \n",
    " it forces to execute the next iteration of the loop.\n",
    "\"\"\"\n",
    "i=0\n",
    "while(i<5):\n",
    "    i+=1\n",
    "    print(\"Before continue\")\n",
    "    continue\n",
    "    print(\"After continue\")\n",
    "\n",
    "    \n",
    "\"\"\"\n",
    "The break statement is used to terminate the loop or statement in which it is present.\n",
    "After that, the control will pass to the statements that are present after the break statement, \n",
    "if available. If the break statement is present in the nested loop, \n",
    "then it terminates only those loops which contains break statement.\n",
    "\"\"\"\n",
    "i=0\n",
    "while(i<5):\n",
    "    i+=1\n",
    "    print(\"Before Break\")\n",
    "    break\n",
    "    print(\"After break\")"
   ]
  },
  {
   "cell_type": "code",
   "execution_count": 16,
   "id": "e7012771",
   "metadata": {},
   "outputs": [
    {
     "name": "stdout",
     "output_type": "stream",
     "text": [
      "0\n",
      "1\n",
      "2\n",
      "3\n",
      "4\n",
      "5\n",
      "6\n",
      "7\n",
      "8\n",
      "9\n",
      "0\n",
      "1\n",
      "2\n",
      "3\n",
      "4\n",
      "5\n",
      "6\n",
      "7\n",
      "8\n",
      "9\n",
      "0\n",
      "1\n",
      "2\n",
      "3\n",
      "4\n",
      "5\n",
      "6\n",
      "7\n",
      "8\n",
      "9\n"
     ]
    }
   ],
   "source": [
    "#11. In a for loop, what is the difference between range(10), range(0, 10), and range(0, 10, 1)?\n",
    "\n",
    "#The range() function returns a sequence of numbers, starting from 0 by default, and increments by 1 (by default), and stops before a specified number.\n",
    "#range(start, stop, step)\n",
    "\"\"\"\n",
    "range(10)\n",
    "start with 0 and end with 9\n",
    "if In range function pass only one argument which is end \n",
    "\"\"\"\n",
    "r=range(10)\n",
    "for i in r:\n",
    "    print(i)\n",
    "\"\"\"\n",
    "range(0, 10)\n",
    "\n",
    "\"\"\"\n",
    "r=range(0,10)\n",
    "for i in r:\n",
    "    print(i)\n",
    "\"\"\"\n",
    "range(0,10,1)\n",
    "\n",
    "\"\"\"\n",
    "r=range(0,10,1)\n",
    "for i in r:\n",
    "    print(i)"
   ]
  },
  {
   "cell_type": "code",
   "execution_count": 20,
   "id": "c0d1758c",
   "metadata": {},
   "outputs": [
    {
     "name": "stdout",
     "output_type": "stream",
     "text": [
      "For loop\n",
      "1 2 3 4 5 6 7 8 9 10 \n",
      "While loop\n",
      "0 1 2 3 4 5 6 7 8 9 10 "
     ]
    }
   ],
   "source": [
    "#12. Write a short program that prints the numbers 1 to 10 using a for loop. Then write an equivalent program that prints the numbers 1 to 10 using a while loop.\n",
    "print(\"For loop\")\n",
    "for i in range(1,10+1):\n",
    "    print(i,end=\" \")\n",
    "print(\"\")\n",
    "print(\"While loop\")\n",
    "i=0\n",
    "while(i<10+1):\n",
    "    print(i,end=\" \")\n",
    "    i+=1\n",
    "    "
   ]
  },
  {
   "cell_type": "raw",
   "id": "9a2f4e7c",
   "metadata": {},
   "source": [
    "\n",
    "#13. If you had a function named bacon() inside a module named spam, how would you call it after importing spam?\n",
    "This function can be called with spam.bacon()."
   ]
  }
 ],
 "metadata": {
  "kernelspec": {
   "display_name": "Python 3 (ipykernel)",
   "language": "python",
   "name": "python3"
  },
  "language_info": {
   "codemirror_mode": {
    "name": "ipython",
    "version": 3
   },
   "file_extension": ".py",
   "mimetype": "text/x-python",
   "name": "python",
   "nbconvert_exporter": "python",
   "pygments_lexer": "ipython3",
   "version": "3.9.12"
  }
 },
 "nbformat": 4,
 "nbformat_minor": 5
}
